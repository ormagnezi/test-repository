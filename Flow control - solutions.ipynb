{
 "cells": [
  {
   "cell_type": "markdown",
   "metadata": {},
   "source": [
    "# Flow control - solutions"
   ]
  },
  {
   "cell_type": "markdown",
   "metadata": {},
   "source": [
    "## The _if_ statement (and friends)"
   ]
  },
  {
   "cell_type": "markdown",
   "metadata": {},
   "source": [
    "### Exercise 1"
   ]
  },
  {
   "cell_type": "code",
   "execution_count": 1,
   "metadata": {
    "collapsed": true
   },
   "outputs": [],
   "source": [
    "num = 120"
   ]
  },
  {
   "cell_type": "markdown",
   "metadata": {},
   "source": [
    "#### Solution 1 - _if...else_"
   ]
  },
  {
   "cell_type": "code",
   "execution_count": 2,
   "metadata": {},
   "outputs": [
    {
     "name": "stdout",
     "output_type": "stream",
     "text": [
      "120 is divisible by 2, 3 and 5!\n"
     ]
    }
   ],
   "source": [
    "if num % 2 == 0 and num % 3 == 0 and num % 5 == 0:\n",
    "    print str(num) + \" is divisible by 2, 3 and 5!\"\n",
    "else:\n",
    "    print str(num) + \" is NOT divisible by 2, 3 and 5!\""
   ]
  },
  {
   "cell_type": "markdown",
   "metadata": {},
   "source": [
    "#### Solution 2 - nested _if_"
   ]
  },
  {
   "cell_type": "code",
   "execution_count": 3,
   "metadata": {},
   "outputs": [
    {
     "name": "stdout",
     "output_type": "stream",
     "text": [
      "120 is divisible by 2, 3 and 5!\n"
     ]
    }
   ],
   "source": [
    "if num % 2 == 0:\n",
    "    if num % 3 == 0:\n",
    "        if num % 5 == 0:\n",
    "            print str(num) + \" is divisible by 2, 3 and 5!\"\n",
    "        else:\n",
    "            print str(num) + \" is NOT divisible by 2, 3 and 5!\"\n",
    "    else:\n",
    "        print str(num) + \" is NOT divisible by 2, 3 and 5!\"\n",
    "else:\n",
    "    print str(num) + \" is NOT divisible by 2, 3 and 5!\""
   ]
  },
  {
   "cell_type": "markdown",
   "metadata": {},
   "source": [
    "#### Solution 3 - _if...elif...else_"
   ]
  },
  {
   "cell_type": "code",
   "execution_count": 4,
   "metadata": {},
   "outputs": [
    {
     "name": "stdout",
     "output_type": "stream",
     "text": [
      "120 is divisible by 2, 3 and 5!\n"
     ]
    }
   ],
   "source": [
    "if num % 2 != 0:\n",
    "    print str(num) + \" is NOT divisible by 2, 3 and 5!\"\n",
    "elif num % 3 != 0:\n",
    "    print str(num) + \" is NOT divisible by 2, 3 and 5!\"\n",
    "elif num % 5 != 0:\n",
    "    print str(num) + \" is NOT divisible by 2, 3 and 5!\"\n",
    "else:\n",
    "    print str(num) + \" is divisible by 2, 3 and 5!\""
   ]
  },
  {
   "cell_type": "markdown",
   "metadata": {},
   "source": [
    "#### Solution 4 - yet another approach"
   ]
  },
  {
   "cell_type": "code",
   "execution_count": 5,
   "metadata": {},
   "outputs": [
    {
     "name": "stdout",
     "output_type": "stream",
     "text": [
      "120 is divisible by 2, 3 and 5!\n"
     ]
    }
   ],
   "source": [
    "if num % 30 == 0:\n",
    "    print str(num) + \" is divisible by 2, 3 and 5!\"\n",
    "else:\n",
    "    print str(num) + \" is NOT divisible by 2, 3 and 5!\""
   ]
  },
  {
   "cell_type": "markdown",
   "metadata": {},
   "source": [
    "### Exercise 2"
   ]
  },
  {
   "cell_type": "code",
   "execution_count": 6,
   "metadata": {},
   "outputs": [
    {
     "name": "stdout",
     "output_type": "stream",
     "text": [
      "bad\n"
     ]
    }
   ],
   "source": [
    "x = ['I', 'am', 'bad']\n",
    "#x = ['Python', 'is', 'cool']\n",
    "\n",
    "longest = x[0]\n",
    "if len(x[1]) > len(longest):\n",
    "    longest = x[1]\n",
    "if len(x[2]) > len(longest):\n",
    "    longest = x[2]\n",
    "\n",
    "print longest"
   ]
  },
  {
   "cell_type": "markdown",
   "metadata": {},
   "source": [
    "### Exercise 3"
   ]
  },
  {
   "cell_type": "code",
   "execution_count": 7,
   "metadata": {},
   "outputs": [
    {
     "name": "stdout",
     "output_type": "stream",
     "text": [
      "The oldest guy is Benjamin and his age is 57\n"
     ]
    }
   ],
   "source": [
    "my_dict = {'Arthur': 34, 'Benjamin': 57, 'Carl': 42}\n",
    "\n",
    "my_keys = my_dict.keys()\n",
    "oldest = my_keys[0]\n",
    "if my_dict[my_keys[1]] > my_dict[oldest]:\n",
    "    oldest = my_keys[1]\n",
    "if my_dict[my_keys[2]] > my_dict[oldest]:\n",
    "    oldest = my_keys[2]\n",
    "\n",
    "print \"The oldest guy is \" + oldest + \" and his age is \" + str(my_dict[oldest])"
   ]
  },
  {
   "cell_type": "markdown",
   "metadata": {},
   "source": [
    "## The _for_ loop"
   ]
  },
  {
   "cell_type": "markdown",
   "metadata": {},
   "source": [
    "### Exercise 1"
   ]
  },
  {
   "cell_type": "code",
   "execution_count": 8,
   "metadata": {
    "collapsed": true
   },
   "outputs": [],
   "source": [
    "sentence = \"This is my magnificent example.\"\n",
    "my_letter = 'm'"
   ]
  },
  {
   "cell_type": "code",
   "execution_count": 9,
   "metadata": {},
   "outputs": [
    {
     "name": "stdout",
     "output_type": "stream",
     "text": [
      "3\n"
     ]
    }
   ],
   "source": [
    "counter = 0\n",
    "for letter in sentence:\n",
    "    if letter == my_letter:\n",
    "        counter += 1\n",
    "print counter"
   ]
  },
  {
   "cell_type": "markdown",
   "metadata": {},
   "source": [
    "### Exercise 2"
   ]
  },
  {
   "cell_type": "code",
   "execution_count": 10,
   "metadata": {
    "collapsed": true
   },
   "outputs": [],
   "source": [
    "pangram = \"the quick brown fox jumps over the lazy dog\".lower()"
   ]
  },
  {
   "cell_type": "markdown",
   "metadata": {},
   "source": [
    "#### Part I"
   ]
  },
  {
   "cell_type": "code",
   "execution_count": 11,
   "metadata": {},
   "outputs": [
    {
     "name": "stdout",
     "output_type": "stream",
     "text": [
      "11\n"
     ]
    }
   ],
   "source": [
    "counter = 0\n",
    "for x in 'aeiou':\n",
    "    counter += pangram.count(x)\n",
    "print counter"
   ]
  },
  {
   "cell_type": "markdown",
   "metadata": {},
   "source": [
    "#### Part II"
   ]
  },
  {
   "cell_type": "code",
   "execution_count": 12,
   "metadata": {},
   "outputs": [
    {
     "name": "stdout",
     "output_type": "stream",
     "text": [
      "5\n"
     ]
    }
   ],
   "source": [
    "counter = 0\n",
    "for x in 'aeiou':\n",
    "    counter += x in pangram\n",
    "print counter"
   ]
  },
  {
   "cell_type": "markdown",
   "metadata": {},
   "source": [
    "Note: the fact that Booleans can be summed as 0 and 1 saves an _if_ statement."
   ]
  },
  {
   "cell_type": "markdown",
   "metadata": {},
   "source": [
    "#### Part III"
   ]
  },
  {
   "cell_type": "code",
   "execution_count": 13,
   "metadata": {},
   "outputs": [
    {
     "name": "stdout",
     "output_type": "stream",
     "text": [
      "{'a': 0, 'c': 0, 'b': 0, 'e': 0, 'd': 0, 'g': 0, 'f': 0, 'i': 0, 'h': 0, 'k': 0, 'j': 0, 'm': 0, 'l': 0, 'o': 0, 'n': 0, 'q': 0, 'p': 0, 's': 0, 'r': 0, 'u': 0, 't': 0, 'w': 0, 'v': 0, 'y': 0, 'x': 0, 'z': 0}\n"
     ]
    }
   ],
   "source": [
    "counter_dict = {}\n",
    "for ch in set(pangram):\n",
    "    if ch.isalpha():\n",
    "        counter_dict[ch] = pangram.count(letter)\n",
    "print counter_dict"
   ]
  },
  {
   "cell_type": "markdown",
   "metadata": {},
   "source": [
    "### Exercise 3"
   ]
  },
  {
   "cell_type": "markdown",
   "metadata": {},
   "source": [
    "#### Part I - new list"
   ]
  },
  {
   "cell_type": "code",
   "execution_count": 14,
   "metadata": {
    "collapsed": true
   },
   "outputs": [],
   "source": [
    "my_list = ['a', 'b', 'c', [], 1, 2, 3, {}, True, False]"
   ]
  },
  {
   "cell_type": "code",
   "execution_count": 15,
   "metadata": {},
   "outputs": [
    {
     "name": "stdout",
     "output_type": "stream",
     "text": [
      "[False, True, {}, 3, 2, 1, [], 'c', 'b', 'a']\n"
     ]
    }
   ],
   "source": [
    "flipped = []\n",
    "for el in my_list:\n",
    "    flipped.insert(0, el)\n",
    "#     print flipped\n",
    "print flipped"
   ]
  },
  {
   "cell_type": "code",
   "execution_count": 16,
   "metadata": {},
   "outputs": [
    {
     "name": "stdout",
     "output_type": "stream",
     "text": [
      "[False, True, {}, 3, 2, 1, [], 'c', 'b', 'a']\n"
     ]
    }
   ],
   "source": [
    "flipped = []\n",
    "for i in range(len(my_list)):\n",
    "    flipped.append(my_list[len(my_list)-1-i])\n",
    "#     print flipped\n",
    "print flipped"
   ]
  },
  {
   "cell_type": "markdown",
   "metadata": {},
   "source": [
    "#### Part II - in-place"
   ]
  },
  {
   "cell_type": "markdown",
   "metadata": {},
   "source": [
    "Note that this solution changes _my_\\__list_ during iterations, which is not advised."
   ]
  },
  {
   "cell_type": "code",
   "execution_count": 17,
   "metadata": {},
   "outputs": [
    {
     "name": "stdout",
     "output_type": "stream",
     "text": [
      "[False, True, {}, 3, 2, 1, [], 'c', 'b', 'a']\n"
     ]
    }
   ],
   "source": [
    "for i in range(len(my_list)):\n",
    "    my_list.insert(0, my_list.pop(i))\n",
    "print my_list"
   ]
  },
  {
   "cell_type": "markdown",
   "metadata": {},
   "source": [
    "### Exercise 4"
   ]
  },
  {
   "cell_type": "code",
   "execution_count": 3,
   "metadata": {
    "collapsed": true
   },
   "outputs": [],
   "source": [
    "tribes = {'Reuven': 23, 'Simeon': 34, 'Levi': 51, 'Judah': 36,\n",
    "          'Dan': 36, 'Naphtali': 25, 'Gad': 36, 'Asher': 27,\n",
    "          'Issachar': 41, 'Zebulun': 19, 'Joseph': 24, 'Benjamin': 28}"
   ]
  },
  {
   "cell_type": "markdown",
   "metadata": {},
   "source": [
    "#### Part I"
   ]
  },
  {
   "cell_type": "code",
   "execution_count": 6,
   "metadata": {},
   "outputs": [
    {
     "name": "stdout",
     "output_type": "stream",
     "text": [
      "31.666666666666668\n"
     ]
    }
   ],
   "source": [
    "sum_of_ages = 0.0  # Ensure numbers are treated as floats\n",
    "for age in tribes.values():\n",
    "    sum_of_ages += age\n",
    "    \n",
    "average_age = sum_of_ages / len(tribes)\n",
    "print (average_age)"
   ]
  },
  {
   "cell_type": "markdown",
   "metadata": {},
   "source": [
    "#### Part II"
   ]
  },
  {
   "cell_type": "code",
   "execution_count": 7,
   "metadata": {},
   "outputs": [
    {
     "ename": "RuntimeError",
     "evalue": "dictionary changed size during iteration",
     "output_type": "error",
     "traceback": [
      "\u001b[1;31m---------------------------------------------------------------------------\u001b[0m",
      "\u001b[1;31mRuntimeError\u001b[0m                              Traceback (most recent call last)",
      "\u001b[1;32m<ipython-input-7-5b6aefe02d16>\u001b[0m in \u001b[0;36m<module>\u001b[1;34m()\u001b[0m\n\u001b[1;32m----> 1\u001b[1;33m \u001b[1;32mfor\u001b[0m \u001b[0mtribe\u001b[0m\u001b[1;33m,\u001b[0m \u001b[0mage\u001b[0m \u001b[1;32min\u001b[0m \u001b[0mtribes\u001b[0m\u001b[1;33m.\u001b[0m\u001b[0mitems\u001b[0m\u001b[1;33m(\u001b[0m\u001b[1;33m)\u001b[0m\u001b[1;33m:\u001b[0m\u001b[1;33m\u001b[0m\u001b[0m\n\u001b[0m\u001b[0;32m      2\u001b[0m     \u001b[1;32mif\u001b[0m \u001b[0mage\u001b[0m \u001b[1;33m<\u001b[0m \u001b[0maverage_age\u001b[0m\u001b[1;33m:\u001b[0m\u001b[1;33m\u001b[0m\u001b[0m\n\u001b[0;32m      3\u001b[0m         \u001b[0mtribes\u001b[0m\u001b[1;33m.\u001b[0m\u001b[0mpop\u001b[0m\u001b[1;33m(\u001b[0m\u001b[0mtribe\u001b[0m\u001b[1;33m)\u001b[0m\u001b[1;33m\u001b[0m\u001b[0m\n\u001b[0;32m      4\u001b[0m \u001b[0mprint\u001b[0m \u001b[1;33m(\u001b[0m\u001b[0mtribes\u001b[0m\u001b[1;33m)\u001b[0m\u001b[1;33m\u001b[0m\u001b[0m\n",
      "\u001b[1;31mRuntimeError\u001b[0m: dictionary changed size during iteration"
     ]
    }
   ],
   "source": [
    "for tribe, age in tribes.items():\n",
    "    if age < average_age:\n",
    "        tribes.pop(tribe)\n",
    "print (tribes)"
   ]
  },
  {
   "cell_type": "markdown",
   "metadata": {},
   "source": [
    "### Exercise 5"
   ]
  },
  {
   "cell_type": "markdown",
   "metadata": {},
   "source": [
    "#### Part I"
   ]
  },
  {
   "cell_type": "code",
   "execution_count": 21,
   "metadata": {},
   "outputs": [
    {
     "name": "stdout",
     "output_type": "stream",
     "text": [
      "The number is 45\n",
      "The number is 46\n",
      "The number is 47\n",
      "The number is 48\n",
      "The number is 49\n",
      "The number is 50\n",
      "The number is 51\n",
      "The number is 52\n",
      "The number is 53\n",
      "The number is 54\n",
      "The number is 55\n",
      "The number is 56\n",
      "The number is 57\n",
      "The number is 58\n",
      "The number is 59\n",
      "The number is 60\n",
      "The number is 61\n",
      "The number is 62\n",
      "The number is 63\n",
      "The number is 64\n",
      "The number is 65\n",
      "The number is 66\n",
      "The number is 67\n",
      "The number is 68\n",
      "The number is 69\n",
      "The number is 70\n",
      "The number is 71\n",
      "The number is 72\n",
      "The number is 73\n",
      "The number is 74\n",
      "The number is 75\n",
      "The number is 76\n",
      "The number is 77\n",
      "The number is 78\n",
      "The number is 79\n",
      "The number is 80\n",
      "The number is 81\n",
      "The number is 82\n",
      "The number is 83\n",
      "The number is 84\n",
      "The number is 85\n",
      "The number is 86\n",
      "The number is 87\n",
      "The number is 88\n",
      "The number is 89\n",
      "The number is 90\n",
      "The number is 91\n",
      "The number is 92\n",
      "The number is 93\n",
      "The number is 94\n",
      "The number is 95\n",
      "The number is 96\n",
      "The number is 97\n",
      "The number is 98\n",
      "The number is 99\n"
     ]
    }
   ],
   "source": [
    "sum_of_nums = 0\n",
    "for i in range(1, 100):\n",
    "    sum_of_nums += i\n",
    "    if sum_of_nums > 1000:\n",
    "        print \"The number is\", i"
   ]
  },
  {
   "cell_type": "markdown",
   "metadata": {},
   "source": [
    "#### Part II"
   ]
  },
  {
   "cell_type": "markdown",
   "metadata": {},
   "source": [
    "We can use a Boolean **flag** to indicate when there is no need for further printing."
   ]
  },
  {
   "cell_type": "code",
   "execution_count": 22,
   "metadata": {},
   "outputs": [
    {
     "name": "stdout",
     "output_type": "stream",
     "text": [
      "The number is 45\n"
     ]
    }
   ],
   "source": [
    "sum_of_nums = 0\n",
    "reached = False\n",
    "for i in range(1, 100):\n",
    "    if sum_of_nums < 1000:\n",
    "        sum_of_nums += i\n",
    "    elif sum_of_nums > 1000 and not reached:\n",
    "        print \"The number is\", i-1\n",
    "        reached = True"
   ]
  },
  {
   "cell_type": "markdown",
   "metadata": {},
   "source": [
    "### Exercise 6"
   ]
  },
  {
   "cell_type": "code",
   "execution_count": 23,
   "metadata": {},
   "outputs": [
    {
     "name": "stdout",
     "output_type": "stream",
     "text": [
      "['a', 'b', 'r']\n"
     ]
    }
   ],
   "source": [
    "str1 = 'abrac'\n",
    "str2 = 'adabra'\n",
    "\n",
    "common = []\n",
    "for x in str1:\n",
    "    if x in str2 and x not in common:\n",
    "        common.append(x)\n",
    "print common"
   ]
  },
  {
   "cell_type": "markdown",
   "metadata": {},
   "source": [
    "## The list comprehension"
   ]
  },
  {
   "cell_type": "markdown",
   "metadata": {},
   "source": [
    "### Exercise 1"
   ]
  },
  {
   "cell_type": "code",
   "execution_count": 24,
   "metadata": {
    "collapsed": true
   },
   "outputs": [],
   "source": [
    "sentence = \"This is my magnificent example.\"\n",
    "my_letter = 'm'"
   ]
  },
  {
   "cell_type": "code",
   "execution_count": 25,
   "metadata": {},
   "outputs": [
    {
     "name": "stdout",
     "output_type": "stream",
     "text": [
      "3\n"
     ]
    }
   ],
   "source": [
    "print len([letter for letter in sentence if letter == my_letter])"
   ]
  },
  {
   "cell_type": "markdown",
   "metadata": {},
   "source": [
    "### Exercise 2"
   ]
  },
  {
   "cell_type": "code",
   "execution_count": 26,
   "metadata": {
    "collapsed": true
   },
   "outputs": [],
   "source": [
    "sentence_string = \"An investment in knowledge pays the best interest (Benjamin Franklin)\"\n",
    "sentence_list = sentence_string.split()"
   ]
  },
  {
   "cell_type": "markdown",
   "metadata": {},
   "source": [
    "#### Part I"
   ]
  },
  {
   "cell_type": "code",
   "execution_count": 27,
   "metadata": {},
   "outputs": [
    {
     "name": "stdout",
     "output_type": "stream",
     "text": [
      "[2, 10, 2, 9, 4, 3, 4, 8, 9, 9]\n"
     ]
    }
   ],
   "source": [
    "print [len(word) for word in sentence_list]"
   ]
  },
  {
   "cell_type": "markdown",
   "metadata": {},
   "source": [
    "#### Part II"
   ]
  },
  {
   "cell_type": "code",
   "execution_count": 28,
   "metadata": {},
   "outputs": [
    {
     "name": "stdout",
     "output_type": "stream",
     "text": [
      "['investment', 'knowledge', 'pays', 'best', 'interest', '(Benjamin', 'Franklin)']\n"
     ]
    }
   ],
   "source": [
    "print [word for word in sentence_list if len(word)>=4]"
   ]
  },
  {
   "cell_type": "markdown",
   "metadata": {},
   "source": [
    "### Exercise 3"
   ]
  },
  {
   "cell_type": "markdown",
   "metadata": {},
   "source": [
    "#### Part I - new list"
   ]
  },
  {
   "cell_type": "code",
   "execution_count": 29,
   "metadata": {},
   "outputs": [
    {
     "name": "stdout",
     "output_type": "stream",
     "text": [
      "[False, True, {}, 3, 2, 1, [], 'c', 'b', 'a']\n"
     ]
    }
   ],
   "source": [
    "my_list = ['a', 'b', 'c', [], 1, 2, 3, {}, True, False]\n",
    "\n",
    "N = len(my_list)\n",
    "flipped = [my_list[N-i] for i in range(1, N+1)]\n",
    "print flipped"
   ]
  },
  {
   "cell_type": "markdown",
   "metadata": {},
   "source": [
    "#### Part II - in-place"
   ]
  },
  {
   "cell_type": "code",
   "execution_count": 30,
   "metadata": {},
   "outputs": [
    {
     "name": "stdout",
     "output_type": "stream",
     "text": [
      "[False, True, {}, 3, 2, 1, [], 'c', 'b', 'a']\n"
     ]
    }
   ],
   "source": [
    "my_list = ['a', 'b', 'c', [], 1, 2, 3, {}, True, False]\n",
    "\n",
    "[my_list.insert(0, my_list.pop(i)) for i in range(len(my_list))]\n",
    "print my_list"
   ]
  },
  {
   "cell_type": "markdown",
   "metadata": {},
   "source": [
    "### Exercise 4"
   ]
  },
  {
   "cell_type": "code",
   "execution_count": 31,
   "metadata": {},
   "outputs": [
    {
     "name": "stdout",
     "output_type": "stream",
     "text": [
      "['a', 'b', 'r', 'a']\n"
     ]
    }
   ],
   "source": [
    "str1 = 'abrac'\n",
    "str2 = 'adabra'\n",
    "\n",
    "common = [x for x in str1 if x in str2]\n",
    "print common"
   ]
  },
  {
   "cell_type": "markdown",
   "metadata": {},
   "source": [
    "## The _while_ loop"
   ]
  },
  {
   "cell_type": "markdown",
   "metadata": {},
   "source": [
    "### Exercise 1"
   ]
  },
  {
   "cell_type": "code",
   "execution_count": 32,
   "metadata": {},
   "outputs": [
    {
     "name": "stdout",
     "output_type": "stream",
     "text": [
      "The number is 45\n"
     ]
    }
   ],
   "source": [
    "i = 0\n",
    "sum_of_nums = 0\n",
    "while sum_of_nums <= 1000:\n",
    "    i += 1\n",
    "    sum_of_nums += i\n",
    "print \"The number is\", i"
   ]
  },
  {
   "cell_type": "markdown",
   "metadata": {},
   "source": [
    "### Exercise 2"
   ]
  },
  {
   "cell_type": "code",
   "execution_count": 33,
   "metadata": {},
   "outputs": [
    {
     "name": "stdout",
     "output_type": "stream",
     "text": [
      "101 is prime.\n"
     ]
    }
   ],
   "source": [
    "n = 101\n",
    "\n",
    "k = 2\n",
    "prime = True\n",
    "while k <= int(n**0.5) and prime:\n",
    "    if n % k == 0:\n",
    "        prime = False\n",
    "    else:\n",
    "        k += 1\n",
    "\n",
    "if prime:\n",
    "    print n, \"is prime.\"\n",
    "else:\n",
    "    print n, \"is not prime.\""
   ]
  },
  {
   "cell_type": "markdown",
   "metadata": {},
   "source": [
    "## Skipping iterations"
   ]
  },
  {
   "cell_type": "markdown",
   "metadata": {},
   "source": [
    "### Exercise 1"
   ]
  },
  {
   "cell_type": "code",
   "execution_count": 34,
   "metadata": {},
   "outputs": [
    {
     "name": "stdout",
     "output_type": "stream",
     "text": [
      "The number is 45\n"
     ]
    }
   ],
   "source": [
    "sum_of_nums = 0\n",
    "for i in range(1, 100):\n",
    "    sum_of_nums += i\n",
    "    if sum_of_nums > 1000:\n",
    "        print \"The number is\", i\n",
    "        break"
   ]
  },
  {
   "cell_type": "markdown",
   "metadata": {},
   "source": [
    "### Exercise 2"
   ]
  },
  {
   "cell_type": "code",
   "execution_count": 35,
   "metadata": {},
   "outputs": [
    {
     "name": "stdout",
     "output_type": "stream",
     "text": [
      "101 is prime.\n"
     ]
    }
   ],
   "source": [
    "n = 101\n",
    "\n",
    "prime = True\n",
    "for k in range(2, int(n**0.5)+1):\n",
    "    if n % k == 0:\n",
    "        prime = False\n",
    "        break\n",
    "\n",
    "if prime:\n",
    "    print n, \"is prime.\"\n",
    "else:\n",
    "    print n, \"is not prime.\""
   ]
  }
 ],
 "metadata": {
  "anaconda-cloud": {},
  "kernelspec": {
   "display_name": "Python 3",
   "language": "python",
   "name": "python3"
  },
  "language_info": {
   "codemirror_mode": {
    "name": "ipython",
    "version": 3
   },
   "file_extension": ".py",
   "mimetype": "text/x-python",
   "name": "python",
   "nbconvert_exporter": "python",
   "pygments_lexer": "ipython3",
   "version": "3.6.3"
  }
 },
 "nbformat": 4,
 "nbformat_minor": 1
}
